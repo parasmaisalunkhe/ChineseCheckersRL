{
 "cells": [
  {
   "cell_type": "code",
   "execution_count": 1,
   "id": "b2ac2a87",
   "metadata": {},
   "outputs": [],
   "source": [
    "import gym\n",
    "from gym import spaces\n",
    "import numpy as np\n",
    "\n",
    "class SimpleMaskableEnv(gym.Env):\n",
    "    \"\"\"A simple custom environment with action masking.\"\"\"\n",
    "    \n",
    "    def __init__(self):\n",
    "        super(SimpleMaskableEnv, self).__init__()\n",
    "        self.action_space = spaces.Discrete(5)  # 5 possible actions\n",
    "        self.observation_space = spaces.Box(low=0, high=1, shape=(3,), dtype=np.float32)\n",
    "        self.state = None\n",
    "        self.current_step = 0\n",
    "\n",
    "    def reset(self):\n",
    "        self.current_step = 0\n",
    "        self.state = np.random.rand(3).astype(np.float32)\n",
    "        return self.state, {}\n",
    "\n",
    "    def step(self, action):\n",
    "        assert self.action_space.contains(action), f\"Invalid action: {action}\"\n",
    "\n",
    "        reward = 1.0 if action == self.correct_action() else -1.0\n",
    "        done = self.current_step >= 10\n",
    "\n",
    "        self.state = np.random.rand(3).astype(np.float32)\n",
    "        self.current_step += 1\n",
    "\n",
    "        info = {\"action_mask\": self.compute_action_mask()}\n",
    "        return self.state, reward, done, False, info\n",
    "\n",
    "    def compute_action_mask(self):\n",
    "        # Let's make action 0 always illegal, and randomly make others illegal\n",
    "        mask = np.ones(self.action_space.n, dtype=bool)\n",
    "        mask[0] = False  # Always mask action 0\n",
    "        for i in range(1, self.action_space.n):\n",
    "            if np.random.rand() < 0.3:  # 30% chance to disable an action\n",
    "                mask[i] = False\n",
    "        return mask\n",
    "\n",
    "    def correct_action(self):\n",
    "        # Just a dummy way to define a correct action\n",
    "        # Choose the smallest legal action\n",
    "        mask = self.compute_action_mask()\n",
    "        legal_actions = np.where(mask)[0]\n",
    "        return np.min(legal_actions) if len(legal_actions) > 0 else 1  # fallback to action 1\n"
   ]
  },
  {
   "cell_type": "code",
   "execution_count": 2,
   "id": "45eae804",
   "metadata": {},
   "outputs": [
    {
     "name": "stderr",
     "output_type": "stream",
     "text": [
      "c:\\Users\\paras\\anaconda3\\envs\\Senior\\lib\\site-packages\\gym\\logger.py:30: UserWarning: \u001b[33mWARN: Box bound precision lowered by casting to float32\u001b[0m\n",
      "  warnings.warn(colorize('%s: %s'%('WARN', msg % args), 'yellow'))\n"
     ]
    },
    {
     "ename": "AssertionError",
     "evalue": "",
     "output_type": "error",
     "traceback": [
      "\u001b[1;31m---------------------------------------------------------------------------\u001b[0m",
      "\u001b[1;31mAssertionError\u001b[0m                            Traceback (most recent call last)",
      "Cell \u001b[1;32mIn[2], line 10\u001b[0m\n\u001b[0;32m      7\u001b[0m     \u001b[38;5;28;01mreturn\u001b[39;00m env\u001b[38;5;241m.\u001b[39mcompute_action_mask()\n\u001b[0;32m      9\u001b[0m env \u001b[38;5;241m=\u001b[39m SimpleMaskableEnv()\n\u001b[1;32m---> 10\u001b[0m env \u001b[38;5;241m=\u001b[39m \u001b[43mActionMasker\u001b[49m\u001b[43m(\u001b[49m\u001b[43menv\u001b[49m\u001b[43m,\u001b[49m\u001b[43m \u001b[49m\u001b[43mmask_fn\u001b[49m\u001b[43m)\u001b[49m\n\u001b[0;32m     12\u001b[0m model \u001b[38;5;241m=\u001b[39m MaskablePPO(\u001b[38;5;124m\"\u001b[39m\u001b[38;5;124mMlpPolicy\u001b[39m\u001b[38;5;124m\"\u001b[39m, env, verbose\u001b[38;5;241m=\u001b[39m\u001b[38;5;241m1\u001b[39m)\n\u001b[0;32m     13\u001b[0m model\u001b[38;5;241m.\u001b[39mlearn(total_timesteps\u001b[38;5;241m=\u001b[39m\u001b[38;5;241m5000\u001b[39m)\n",
      "File \u001b[1;32mc:\\Users\\paras\\anaconda3\\envs\\Senior\\lib\\site-packages\\sb3_contrib\\common\\wrappers\\action_masker.py:20\u001b[0m, in \u001b[0;36mActionMasker.__init__\u001b[1;34m(self, env, action_mask_fn)\u001b[0m\n\u001b[0;32m     19\u001b[0m \u001b[38;5;28;01mdef\u001b[39;00m\u001b[38;5;250m \u001b[39m\u001b[38;5;21m__init__\u001b[39m(\u001b[38;5;28mself\u001b[39m, env: gym\u001b[38;5;241m.\u001b[39mEnv, action_mask_fn: Union[\u001b[38;5;28mstr\u001b[39m, Callable[[gym\u001b[38;5;241m.\u001b[39mEnv], np\u001b[38;5;241m.\u001b[39mndarray]]):\n\u001b[1;32m---> 20\u001b[0m     \u001b[38;5;28;43msuper\u001b[39;49m\u001b[43m(\u001b[49m\u001b[43m)\u001b[49m\u001b[38;5;241;43m.\u001b[39;49m\u001b[38;5;21;43m__init__\u001b[39;49m\u001b[43m(\u001b[49m\u001b[43menv\u001b[49m\u001b[43m)\u001b[49m\n\u001b[0;32m     22\u001b[0m     \u001b[38;5;28;01mif\u001b[39;00m \u001b[38;5;28misinstance\u001b[39m(action_mask_fn, \u001b[38;5;28mstr\u001b[39m):\n\u001b[0;32m     23\u001b[0m         found_method \u001b[38;5;241m=\u001b[39m \u001b[38;5;28mgetattr\u001b[39m(\u001b[38;5;28mself\u001b[39m\u001b[38;5;241m.\u001b[39menv, action_mask_fn)\n",
      "File \u001b[1;32mc:\\Users\\paras\\anaconda3\\envs\\Senior\\lib\\site-packages\\gymnasium\\core.py:310\u001b[0m, in \u001b[0;36mWrapper.__init__\u001b[1;34m(self, env)\u001b[0m\n\u001b[0;32m    304\u001b[0m \u001b[38;5;250m\u001b[39m\u001b[38;5;124;03m\"\"\"Wraps an environment to allow a modular transformation of the :meth:`step` and :meth:`reset` methods.\u001b[39;00m\n\u001b[0;32m    305\u001b[0m \n\u001b[0;32m    306\u001b[0m \u001b[38;5;124;03mArgs:\u001b[39;00m\n\u001b[0;32m    307\u001b[0m \u001b[38;5;124;03m    env: The environment to wrap\u001b[39;00m\n\u001b[0;32m    308\u001b[0m \u001b[38;5;124;03m\"\"\"\u001b[39;00m\n\u001b[0;32m    309\u001b[0m \u001b[38;5;28mself\u001b[39m\u001b[38;5;241m.\u001b[39menv \u001b[38;5;241m=\u001b[39m env\n\u001b[1;32m--> 310\u001b[0m \u001b[38;5;28;01massert\u001b[39;00m \u001b[38;5;28misinstance\u001b[39m(env, Env)\n\u001b[0;32m    312\u001b[0m \u001b[38;5;28mself\u001b[39m\u001b[38;5;241m.\u001b[39m_action_space: spaces\u001b[38;5;241m.\u001b[39mSpace[WrapperActType] \u001b[38;5;241m|\u001b[39m \u001b[38;5;28;01mNone\u001b[39;00m \u001b[38;5;241m=\u001b[39m \u001b[38;5;28;01mNone\u001b[39;00m\n\u001b[0;32m    313\u001b[0m \u001b[38;5;28mself\u001b[39m\u001b[38;5;241m.\u001b[39m_observation_space: spaces\u001b[38;5;241m.\u001b[39mSpace[WrapperObsType] \u001b[38;5;241m|\u001b[39m \u001b[38;5;28;01mNone\u001b[39;00m \u001b[38;5;241m=\u001b[39m \u001b[38;5;28;01mNone\u001b[39;00m\n",
      "\u001b[1;31mAssertionError\u001b[0m: "
     ]
    }
   ],
   "source": [
    "from sb3_contrib import MaskablePPO\n",
    "from sb3_contrib.common.maskable.utils import get_action_masks\n",
    "from sb3_contrib.common.wrappers import ActionMasker\n",
    "\n",
    "def mask_fn(env):\n",
    "    # this tells MaskablePPO how to get the action mask from the env\n",
    "    return env.compute_action_mask()\n",
    "\n",
    "env = SimpleMaskableEnv()\n",
    "env = ActionMasker(env, mask_fn)\n",
    "\n",
    "model = MaskablePPO(\"MlpPolicy\", env, verbose=1)\n",
    "model.learn(total_timesteps=5000)\n"
   ]
  },
  {
   "cell_type": "code",
   "execution_count": null,
   "id": "d020ce48",
   "metadata": {},
   "outputs": [],
   "source": []
  }
 ],
 "metadata": {
  "kernelspec": {
   "display_name": "Senior",
   "language": "python",
   "name": "python3"
  },
  "language_info": {
   "codemirror_mode": {
    "name": "ipython",
    "version": 3
   },
   "file_extension": ".py",
   "mimetype": "text/x-python",
   "name": "python",
   "nbconvert_exporter": "python",
   "pygments_lexer": "ipython3",
   "version": "3.10.16"
  }
 },
 "nbformat": 4,
 "nbformat_minor": 5
}
